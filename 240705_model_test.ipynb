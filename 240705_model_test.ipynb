{
 "cells": [
  {
   "cell_type": "code",
   "execution_count": 8,
   "metadata": {},
   "outputs": [],
   "source": []
  },
  {
   "cell_type": "code",
   "execution_count": 9,
   "metadata": {},
   "outputs": [],
   "source": [
    "import torch\n",
    "from transformers import AutoTokenizer, AutoModelForCausalLM\n",
    "from tqdm import tqdm"
   ]
  },
  {
   "cell_type": "code",
   "execution_count": 10,
   "metadata": {},
   "outputs": [],
   "source": [
    "first_run = False\n",
    "\n",
    "if first_run == True:\n",
    "    %pip install --upgrade pip\n",
    "    %pip install torch torchvision\n",
    "    %pip install transformers\n",
    "    %pip install sentencepiece\n",
    "\n",
    "    MODELPATH = \"rinna-bilingual-gpt-neox-4b-instruction-sft\"\n",
    "    tokenizer = AutoTokenizer.from_pretrained(MODELPATH, use_fast=False)\n",
    "    model = AutoModelForCausalLM.from_pretrained(MODELPATH)\n",
    "\n",
    "    if torch.cuda.is_available():\n",
    "        model = model.to(\"cuda\")    "
   ]
  },
  {
   "cell_type": "code",
   "execution_count": 31,
   "metadata": {},
   "outputs": [],
   "source": [
    "list_response = [\"はい\", \"いいえ\", \"わからない\"]\n",
    "\n",
    "def run_single_test(prompt_question):\n",
    "    prompt = \"ユーザー: \" + prompt_question + \"\\n\" + \"システム: \"\n",
    "    response = \"\"\n",
    "    response_counter = 0\n",
    "    # while (response not in list_response) or response_counter > 10:\n",
    "    token_ids = tokenizer.encode(prompt, add_special_tokens = False, return_tensors = \"pt\")\n",
    "    with torch.no_grad():\n",
    "        output_ids = model.generate(\n",
    "            token_ids.to(model.device),\n",
    "            max_new_tokens = 512,\n",
    "            do_sample = True,\n",
    "            temperature = 1.0,\n",
    "            top_p = 0.85,\n",
    "            pad_token_id = tokenizer.pad_token_id,\n",
    "            bos_token_id = tokenizer.bos_token_id,\n",
    "            eos_token_id = tokenizer.eos_token_id\n",
    "        )\n",
    "\n",
    "    output = tokenizer.decode(output_ids.tolist()[0][token_ids.size(1):])\n",
    "    response = output.replace(\"</s>\", \"\")\n",
    "    response_counter += 1\n",
    "    print(response)\n",
    "\n",
    "def run_multi_tests(prompt_question, iterations = 20):\n",
    "    for _ in range(iterations):\n",
    "            run_single_test(prompt_question)"
   ]
  },
  {
   "cell_type": "code",
   "execution_count": 38,
   "metadata": {},
   "outputs": [],
   "source": [
    "list_questions = [\n",
    "    \"製品・商品市場&競合を意識した目標の設定をされているか」\",\n",
    "    \"外部環境の急変に向けたリスクヘッジがあるか」\",\n",
    "    \"資本効率への意識があり目標指標を明示しているか」\",\n",
    "    \"各事業別に財務目標を設定しているか」\",\n",
    "    \"有望領域を選定して具体的な事業戦略策定をされているか」\",\n",
    "    \"投資家にとって関心の高いセグメント分けをしているか」\",\n",
    "    \"事業別配分を含めた投資内訳を明示しているか」\",\n",
    "    \"投資配分に柔軟性があるか」\",\n",
    "    \"配当・自社株買いなどの株主への還元政策を明記しているか」\",\n",
    "    \"目標と連動した人事評価をされているか」\",\n",
    "    \"フレキシビリティのあるローリング、リソース配分をしているか」\"\n",
    "]"
   ]
  },
  {
   "cell_type": "code",
   "execution_count": 39,
   "metadata": {},
   "outputs": [
    {
     "name": "stdout",
     "output_type": "stream",
     "text": [
      "はい\n",
      "はい\n",
      "いいえ\n",
      "はい\n",
      "はい\n",
      "はい\n",
      "1. ビジョンの改定 2. 新たなビジョン 3. 財務目標の設定 4. 主な取り組み 5. 高付加価値の最先端技術を有する製品と最良の技術サービスを提供 6. 今後の成長機会を最大限取り込むために積極的な成長投資を継続し、5年間で1兆円以上の研究開発費を投入 7. 最高のパフォーマンスを達成し、持続的な成長を目指します 8. 今後もBestProducts、BestTechnicalServiceを常に追求し、短期および中長期的な利益と継続的な企業価値の向上を目指していきます 9. 引き続き、BestProducts、BestTechnicalServiceを追求し、成長と株主還元のバランスのとれた取り組みを進めてまいります。 10. 成長投資に必要な資金を確保し、積極的な株主還元に継続的に取り組んでまいります。\n",
      "回答:はい\n",
      "はい\n",
      "回答:はい\n",
      "この企業は、半導体の技術革新を追求し、2022年3月期には売上高2兆38億円、営業利益率29.9%、ROE37.2%という財務モデルをその中核目標に掲げ、事業に取り組んでまいりました。\n"
     ]
    }
   ],
   "source": [
    "for question in list_questions:\n",
    "    run_single_test(\"以下の参考文章をインプットとして、「この企業は\" + question + \"を「はい/いいえ/わからない」で回答してください。\\n\" +\n",
    "        \"参考文章：  12022年6月8日各位会社名:東京エレクトロン株式会社代表者名:代表取締役社長河合利樹(コード番号:8035東証プライム市場)問合せ先:戦略担当ゼネラルマネージャー堂和寛(TEL03-5561-7000)新中期経営計画についてICT(情報通信技術)の進化とともに、デジタル技術の活用と応用がさまざまな産業や分野において拡がり、データ社会への移行が進む中、半導体の重要性はますます高まっています。それに伴い、当社が参画する半導体製造装置市場においても、さらなる技術革新とともに中長期的に継続した成長が見込まれています。当社は、2019年5月に中期経営計画を策定し、2024年3月期までに売上高2兆円、営業利益率30%以上、ROE30%以上という財務モデルをその中核目標に掲げて事業に取り組んでまいりました。半導体製造装置市場が大きく拡大する中、当社の注力分野における事業展開は順調に進捗し、その業績は市場成長をアウトパフォームいたしました。その結果、2022年3月期の決算は、売上高2兆38億円、営業利益率29.9%、ROE37.2%となり、目標とする財務モデルを2年前倒しでほぼ達成することができました。このような状況のもと、当社は今期節目となる60期を迎え、さらなる成長を目指すにあたり、新たな中期経営計画を策定いたしました。本計画の遂行とともに、これからもBestProducts、BestTechnicalServiceを常に追求し、短期および中長期的な利益と継続的な企業価値の向上を目指していきます。1.ビジョンの改定“最先端の技術と確かなサービスで、夢のある社会の発展に貢献します”とした当社の基本理念の実践に向けた重点事項として、2030年に向けた新たなビジョンを策定いたしました。『半導体の技術革新に貢献する夢と活力のある会社』東京エレクトロンは、世の中の持続的な発展を支える半導体の技術革新を追求します。当社の専門性を生かし、付加価値の高い最先端の装置と技術サービスを継続的に創出することで、中長期的な利益の拡大と継続的な企業価値の向上を目指していきます。そして、企業の成長は人、社員は価値創出の源泉と位置づけ、ステークホルダーとのエンゲージメントを通じて、このビジョンの実現に向けて活動してまいります。2.新中期経営計画1新財務目標の設定前述のとおり、半導体製造装置市場の継続的な成長が見込まれる中、当社は、ワールドクラスの営業利益率とROE(自己資本利益率)の実現を目指し、新中期経営計画として今期2023年3月期から5年を達成期間とした新たな財務目標を設定いたしました。2財務目標(~2027年3月期)売上高≥3兆円営業利益率≥35%ROE(自己資本利益率)≥30%2当社のマテリアリティ(重要分野)新中期経営計画の達成を目指すにあたり、4つの項目から構成される当社のマテリアリティにさらなる磨きをかけてまいります。3新中期経営計画達成に向けた今後の主な取り組み高付加価値の最先端技術を有する製品と最良の技術サービスを提供今後の成長機会を最大限取り込むために積極的な成長投資を継続し、5年間で1兆円以上の研究開発費を投入世界最大の出荷実績を生かしたフィールドソリューション事業の強化データ、AIを活用した生産性および付加価値の向上業界における持続可能なサプライチェーン構築に向けたE-COMPASS*1を推進2050年に向けた長期環境目標を改定し、ネットゼロを宣言安全・社員エンゲージメントなど、継続的な企業価値の向上に関する重要指標を設定*1:EnvironmentalCo-CreationbyMaterial,ProcessandSubcomponentSolutionsの略であり、当社が推進するパートナー企業と連携した半導体の技術革新と半導体製造時の環境負荷低減を目指すイニシアティブ3.資本政策と株主還元策従前どおりの方針を継続いたします。1資本効率についての考え方当社の資本政策は、成長投資に必要な資金を確保し、積極的な株主還元に継続的に取り組み、中長期的な成長の視点をもって、適切なバランスシート・マネジメントに努めることを基本としております。具体的には、営業利益率と資産効率をさらに高め、キャッシュ・フローの拡大に努めることで、持続的な成長を目指し、ROE向上など高い資本効率を追求します。2株主還元についての考え方*2当社の配当政策は業績連動型を基本とし、親会社株主に帰属する当期純利益に対する配当性向50%を目処とします。ただし、1株当たりの年間配当金は150円を下回らないこととします。また、自己株式の取得については、機動的に実施を検討することとしております。*2:2期連続で当期利益を生まなかった場合は、配当金の見直しを検討します。以上\")"
   ]
  },
  {
   "cell_type": "code",
   "execution_count": null,
   "metadata": {},
   "outputs": [],
   "source": []
  }
 ],
 "metadata": {
  "kernelspec": {
   "display_name": "Python 3",
   "language": "python",
   "name": "python3"
  },
  "language_info": {
   "codemirror_mode": {
    "name": "ipython",
    "version": 3
   },
   "file_extension": ".py",
   "mimetype": "text/x-python",
   "name": "python",
   "nbconvert_exporter": "python",
   "pygments_lexer": "ipython3",
   "version": "3.10.0"
  }
 },
 "nbformat": 4,
 "nbformat_minor": 2
}
